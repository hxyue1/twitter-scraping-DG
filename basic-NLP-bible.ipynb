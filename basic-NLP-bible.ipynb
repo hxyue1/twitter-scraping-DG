{
 "cells": [
  {
   "cell_type": "code",
   "execution_count": 131,
   "metadata": {},
   "outputs": [],
   "source": [
    "import pandas as pd\n",
    "import numpy as np"
   ]
  },
  {
   "cell_type": "code",
   "execution_count": 132,
   "metadata": {},
   "outputs": [
    {
     "data": {
      "text/plain": [
       "\"\\ufeffThe Project Gutenberg EBook of The King James Bible\\n\\n\\n**********************************************************************\\nEBOOK (#10) WAS ONE OF PROJECT GUTENBERG'S EARLY FILES PRODUCED AT A\\nTIME WHEN PROOFING METHODS AND TOOLS WERE NOT WELL DEVELOPED. THERE IS\\nAN IMPROVED EDITION OF THIS TITLE WHICH MAY VIEWED AT EBOOK http://www.gutenberg.org/files/10900/10900-h/10900-h.htm\\n(There is no text file for this ebook)\\n**********************************************************************\\n\\n\\nThis eBook is for the use of anyone anywhere at no cost and with\\nalmost no restrictions whatsoever.  You may copy it, give it away or\\nre-use it under the terms of the Project Gutenberg License included\\nwith this eBook or online at www.gutenberg.org\\n\\n\\nTitle: The King James Bible\\n\\nRelease Date: March 2, 2011 [EBook #10]\\n[This King James Bible was orginally posted by Project Gutenberg\\nin late 1989]\\n\\nLanguage: English\\n\\n\\n*** START OF THIS PROJECT GUTENBERG EBOOK THE KING JAMES BIBLE ***\\n\\n\\n\\n\\n\\n\\n\\n\\n\\n\\n\\n\\n\\n\\nThe \""
      ]
     },
     "execution_count": 132,
     "metadata": {},
     "output_type": "execute_result"
    }
   ],
   "source": [
    "f = open('KJV.txt','r')\n",
    "bible_text = f.read()\n",
    "bible_text[:1000]"
   ]
  },
  {
   "cell_type": "code",
   "execution_count": 133,
   "metadata": {
    "scrolled": true
   },
   "outputs": [],
   "source": [
    "bible_books = ['Genesis', 'Exodus', 'Leviticus','Numbers','Deuteronomy', 'Joshua',\n",
    "                 'Judges', 'Ruth', 'Samuel', '2 Samuel', '1 Kings', '2 Kings',\n",
    "                 '1 Chronicles', '2 Chronicles', 'Ezra', 'Nehemiah', 'Esther', 'Job',\n",
    "                  'Psalms','Proverbs', 'Ecclesiastes', 'Song of Solomon', 'Isaiah', 'Jeremiah',\n",
    "                  'Lamentations','Ezekiel', 'Daniel', 'Hosea', 'Joel', 'Amos',\n",
    "                  'Obadiah', 'Jonah', 'Micah', 'Nahum', 'Habbakkuk', 'Zephaniah',\n",
    "                  'Haggai', 'Zechariah', 'Malachi', 'Matthew', 'Mark', 'Luke',\n",
    "                  'John','Acs', 'Romans', '1 Corinthians', '2 Corinthians', 'Galatians',\n",
    "                  'Ephesians','Philippians', 'Colossians', '1 Thessalonians', '2 Thessalonians', '1 Timothy',\n",
    "                  '2 Timothy','Titus', 'Philemon', 'Hebrews', 'James', '1 Peter',\n",
    "                  '2 Peter','1 John', '2 John', '3 John', 'Jude', 'Revelation']"
   ]
  },
  {
   "cell_type": "code",
   "execution_count": 134,
   "metadata": {
    "scrolled": true
   },
   "outputs": [
    {
     "data": {
      "text/html": [
       "<div>\n",
       "<style scoped>\n",
       "    .dataframe tbody tr th:only-of-type {\n",
       "        vertical-align: middle;\n",
       "    }\n",
       "\n",
       "    .dataframe tbody tr th {\n",
       "        vertical-align: top;\n",
       "    }\n",
       "\n",
       "    .dataframe thead th {\n",
       "        text-align: right;\n",
       "    }\n",
       "</style>\n",
       "<table border=\"1\" class=\"dataframe\">\n",
       "  <thead>\n",
       "    <tr style=\"text-align: right;\">\n",
       "      <th></th>\n",
       "      <th>0</th>\n",
       "      <th>1</th>\n",
       "    </tr>\n",
       "  </thead>\n",
       "  <tbody>\n",
       "    <tr>\n",
       "      <th>0</th>\n",
       "      <td>Genesis</td>\n",
       "      <td>True</td>\n",
       "    </tr>\n",
       "    <tr>\n",
       "      <th>1</th>\n",
       "      <td>Exodus</td>\n",
       "      <td>True</td>\n",
       "    </tr>\n",
       "    <tr>\n",
       "      <th>2</th>\n",
       "      <td>Leviticus</td>\n",
       "      <td>True</td>\n",
       "    </tr>\n",
       "    <tr>\n",
       "      <th>3</th>\n",
       "      <td>Numbers</td>\n",
       "      <td>True</td>\n",
       "    </tr>\n",
       "    <tr>\n",
       "      <th>4</th>\n",
       "      <td>Deuteronomy</td>\n",
       "      <td>True</td>\n",
       "    </tr>\n",
       "    <tr>\n",
       "      <th>5</th>\n",
       "      <td>Joshua</td>\n",
       "      <td>True</td>\n",
       "    </tr>\n",
       "    <tr>\n",
       "      <th>6</th>\n",
       "      <td>Judges</td>\n",
       "      <td>True</td>\n",
       "    </tr>\n",
       "    <tr>\n",
       "      <th>7</th>\n",
       "      <td>Ruth</td>\n",
       "      <td>True</td>\n",
       "    </tr>\n",
       "    <tr>\n",
       "      <th>8</th>\n",
       "      <td>Samuel</td>\n",
       "      <td>True</td>\n",
       "    </tr>\n",
       "    <tr>\n",
       "      <th>9</th>\n",
       "      <td>2 Samuel</td>\n",
       "      <td>False</td>\n",
       "    </tr>\n",
       "    <tr>\n",
       "      <th>10</th>\n",
       "      <td>1 Kings</td>\n",
       "      <td>True</td>\n",
       "    </tr>\n",
       "    <tr>\n",
       "      <th>11</th>\n",
       "      <td>2 Kings</td>\n",
       "      <td>True</td>\n",
       "    </tr>\n",
       "    <tr>\n",
       "      <th>12</th>\n",
       "      <td>1 Chronicles</td>\n",
       "      <td>False</td>\n",
       "    </tr>\n",
       "    <tr>\n",
       "      <th>13</th>\n",
       "      <td>2 Chronicles</td>\n",
       "      <td>False</td>\n",
       "    </tr>\n",
       "    <tr>\n",
       "      <th>14</th>\n",
       "      <td>Ezra</td>\n",
       "      <td>True</td>\n",
       "    </tr>\n",
       "    <tr>\n",
       "      <th>15</th>\n",
       "      <td>Nehemiah</td>\n",
       "      <td>True</td>\n",
       "    </tr>\n",
       "    <tr>\n",
       "      <th>16</th>\n",
       "      <td>Esther</td>\n",
       "      <td>True</td>\n",
       "    </tr>\n",
       "    <tr>\n",
       "      <th>17</th>\n",
       "      <td>Job</td>\n",
       "      <td>True</td>\n",
       "    </tr>\n",
       "    <tr>\n",
       "      <th>18</th>\n",
       "      <td>Psalms</td>\n",
       "      <td>True</td>\n",
       "    </tr>\n",
       "    <tr>\n",
       "      <th>19</th>\n",
       "      <td>Proverbs</td>\n",
       "      <td>True</td>\n",
       "    </tr>\n",
       "  </tbody>\n",
       "</table>\n",
       "</div>"
      ],
      "text/plain": [
       "               0      1\n",
       "0        Genesis   True\n",
       "1         Exodus   True\n",
       "2      Leviticus   True\n",
       "3        Numbers   True\n",
       "4    Deuteronomy   True\n",
       "5         Joshua   True\n",
       "6         Judges   True\n",
       "7           Ruth   True\n",
       "8         Samuel   True\n",
       "9       2 Samuel  False\n",
       "10       1 Kings   True\n",
       "11       2 Kings   True\n",
       "12  1 Chronicles  False\n",
       "13  2 Chronicles  False\n",
       "14          Ezra   True\n",
       "15      Nehemiah   True\n",
       "16        Esther   True\n",
       "17           Job   True\n",
       "18        Psalms   True\n",
       "19      Proverbs   True"
      ]
     },
     "execution_count": 134,
     "metadata": {},
     "output_type": "execute_result"
    }
   ],
   "source": [
    "book_in_bible = [book in bible_text for book in bible_books]\n",
    "pd.concat([pd.Series(bible_books), pd.Series(book_in_bible)], axis =1).head(20)"
   ]
  },
  {
   "cell_type": "code",
   "execution_count": 135,
   "metadata": {
    "scrolled": true
   },
   "outputs": [
    {
     "data": {
      "text/plain": [
       "[1090,\n",
       " 207739,\n",
       " 384862,\n",
       " 517103,\n",
       " 700707,\n",
       " 277963,\n",
       " 774591,\n",
       " 1059638,\n",
       " 1073136,\n",
       " -1,\n",
       " 2309361,\n",
       " 2170690,\n",
       " -1,\n",
       " -1,\n",
       " 1342710,\n",
       " 1839010,\n",
       " 1938151,\n",
       " 33793,\n",
       " 2070262,\n",
       " 2311144,\n",
       " 2396887,\n",
       " 2426531,\n",
       " 1541863,\n",
       " 1566109,\n",
       " 2875341,\n",
       " 2894351,\n",
       " 1585241,\n",
       " 3171691,\n",
       " 1099080,\n",
       " 3211057,\n",
       " 1418599,\n",
       " 1517912,\n",
       " 1034317,\n",
       " 3261187,\n",
       " -1,\n",
       " 1573415,\n",
       " 1852281,\n",
       " 1593078,\n",
       " 3325504,\n",
       " 3335086,\n",
       " 1258725,\n",
       " 3549640,\n",
       " 3341287,\n",
       " -1,\n",
       " 3750078,\n",
       " -1,\n",
       " -1,\n",
       " 4069171,\n",
       " 3886566,\n",
       " 4103400,\n",
       " 4115570,\n",
       " -1,\n",
       " -1,\n",
       " -1,\n",
       " -1,\n",
       " 4040329,\n",
       " 4171287,\n",
       " 159299,\n",
       " 41,\n",
       " 3794334,\n",
       " -1,\n",
       " -1,\n",
       " -1,\n",
       " -1,\n",
       " 1853497,\n",
       " 4269040]"
      ]
     },
     "execution_count": 135,
     "metadata": {},
     "output_type": "execute_result"
    }
   ],
   "source": [
    "positions = [bible_text.find(book) for book in bible_books]\n",
    "positions"
   ]
  },
  {
   "cell_type": "markdown",
   "metadata": {},
   "source": [
    "While the name of most of the books in the bible may be located in the text, but their occurences don't seem to always align with the start of the book. This is easy to see because the positions of each of the words are not in ascending order. I could split the text manually but I wonder if there is a way to do so more intelligently...\n",
    "\n",
    "But let's have a look at some of the locations of the words."
   ]
  },
  {
   "cell_type": "code",
   "execution_count": 136,
   "metadata": {
    "scrolled": true
   },
   "outputs": [
    {
     "data": {
      "text/plain": [
       "[' First Book of Moses:  Called Genesis\\n\\n\\n1:1 In the beginning',\n",
       " 'Second Book of Moses:  Called Exodus\\n\\n\\n1:1 Now these are the',\n",
       " ' Third Book of Moses:  Called Leviticus\\n\\n\\n1:1 And the LORD c',\n",
       " 'Fourth Book of Moses:  Called Numbers\\n\\n\\n1:1 And the LORD spa',\n",
       " ' Fifth Book of Moses:  Called Deuteronomy\\n\\n\\n1:1 These be the',\n",
       " 'im.\\n\\n17:9 And Moses said unto Joshua, Choose us out men, and',\n",
       " 'ch he hath given thee.\\n\\n16:18 Judges and officers shalt thou',\n",
       " 'his own eyes.\\n\\n\\n\\n\\nThe Book of Ruth\\n\\n\\n1:1 Now it came to pass',\n",
       " ' David.\\n\\n\\n\\n\\nThe First Book of Samuel\\n\\nOtherwise Called:\\n\\nThe',\n",
       " '',\n",
       " 'hings, and flying fowl:\\n\\n148:11 Kings of the earth, and all ',\n",
       " 'those that\\npublished it.\\n\\n68:12 Kings of armies did flee apa',\n",
       " '',\n",
       " '',\n",
       " ' than all men; than Ethan the Ezrahite, and\\nHeman, and Chalc',\n",
       " 'came with\\nZerubbabel: Jeshua, Nehemiah, Seraiah, Reelaiah, M',\n",
       " 'od, for good.\\n\\n\\n\\n\\nThe Book of Esther\\n\\n\\n1:1 Now it came to pa',\n",
       " '9 And Ophir, and Havilah, and Jobab: all these\\nwere the sons',\n",
       " 'full of days.\\n\\n\\n\\n\\nThe Book of Psalms\\n\\n\\n1:1 Blessed is the ma',\n",
       " '. Praise ye the LORD.\\n\\n\\n\\n\\nThe Proverbs\\n\\n\\n1:1 The proverbs of',\n",
       " ' praise\\nher in the gates.\\n\\n\\n\\n\\nEcclesiastes\\n\\nor\\n\\nThe Preacher',\n",
       " 'r whether it be evil.\\n\\n\\n\\n\\nThe Song of Solomon\\n\\n\\n1:1 The song',\n",
       " 's, covered with sackcloth, to\\nIsaiah the prophet the son of ',\n",
       " ' was\\nHamutal, the daughter of Jeremiah of Libnah.\\n\\n23:32 And',\n",
       " 'the days of his life.\\n\\n\\n\\n\\nThe Lamentations of Jeremiah\\n\\n\\n1:1',\n",
       " '.\\n\\n\\n\\n\\nThe Book of the Prophet Ezekiel\\n\\n\\n1:1 Now it came to p',\n",
       " ' the Jezreelitess; the second\\nDaniel, of Abigail the Carmeli',\n",
       " 't at the end of the days.\\n\\n\\n\\n\\nHosea\\n\\n\\n1:1 The word of the LO',\n",
       " 'the name of his firstborn was Joel; and the name of his\\nseco',\n",
       " 'he\\nLORD dwelleth in Zion.\\n\\n\\n\\n\\nAmos\\n\\n\\n1:1 The words of Amos, ',\n",
       " 'amaria.\\n\\n18:3 And Ahab called Obadiah, which was the governo',\n",
       " 'ke by the hand of his servant Jonah, the son of Amittai,\\nthe',\n",
       " 'mount Ephraim, whose name was Micah.\\n\\n17:2 And he said unto ',\n",
       " 'ers from the days of old.\\n\\n\\n\\n\\nNahum\\n\\n\\n1:1 The burden of Nine',\n",
       " '',\n",
       " 'Seraiah the chief priest, and\\nZephaniah the second priest, a',\n",
       " 'rsia.\\n\\n5:1 Then the prophets, Haggai the prophet, and Zechar',\n",
       " 'd, were the chief, Jeiel, and Zechariah, 5:8\\nAnd Bela the so',\n",
       " 'use of the LORD of hosts.\\n\\n\\n\\n\\nMalachi\\n\\n\\n1:1 The burden of th',\n",
       " 'The Gospel According to Saint Matthew\\n\\n\\n1:1 The book of the ',\n",
       " \"mmanded his servants, saying, Mark ye now when\\nAmnon's heart\",\n",
       " 'The Gospel According to Saint Luke\\n\\n\\n1:1 Forasmuch as many h',\n",
       " 'rene.\\n\\n3:1 In those days came John the Baptist, preaching in',\n",
       " '',\n",
       " ' will believe on him: and the\\nRomans shall come and take awa',\n",
       " '',\n",
       " '',\n",
       " 'le of Paul the Apostle to the Galatians\\n\\n\\n1:1 Paul, an apost',\n",
       " 'saying, Great is Diana of the Ephesians.\\n\\n19:29 And the whol',\n",
       " 'le of Paul the Apostle to the Philippians\\n\\n\\n1:1 Paul and Tim',\n",
       " 'le of Paul the Apostle to the Colossians\\n\\n\\n1:1  Paul, an apo',\n",
       " '',\n",
       " '',\n",
       " '',\n",
       " '',\n",
       " 'y\\nspirit, because I found not Titus my brother: but taking m',\n",
       " 'pistle of Paul the Apostle to Philemon\\n\\n\\n1:1 Paul, a prisone',\n",
       " 'n away out\\nof the land of the Hebrews: and here also have I ',\n",
       " 't Gutenberg EBook of The King James Bible\\n\\n\\n****************',\n",
       " ' he that betrayeth thee?  21:21 Peter seeing him saith to\\nJe',\n",
       " '',\n",
       " '',\n",
       " '',\n",
       " '',\n",
       " ' we went into the province of\\nJudea, to the house of the gre',\n",
       " 'h now and ever. Amen.\\n\\n\\n\\n\\nThe Revelation of Saint John the D']"
      ]
     },
     "execution_count": 136,
     "metadata": {},
     "output_type": "execute_result"
    }
   ],
   "source": [
    "snippets = []\n",
    "for position in positions:\n",
    "    if position != -1:\n",
    "        snippet = bible_text[position-30:position+30]\n",
    "    else:\n",
    "        snippet = ''\n",
    "    snippets.append(snippet)\n",
    "snippets"
   ]
  },
  {
   "cell_type": "markdown",
   "metadata": {},
   "source": [
    "While locating the book name works in most cases, in some cases it ends up picking a false positive. One thing we can do is look at the text immediately preceeding the first verse of each book. The first verse of each book will have a standard format so that should be easy"
   ]
  },
  {
   "cell_type": "code",
   "execution_count": 137,
   "metadata": {
    "scrolled": true
   },
   "outputs": [
    {
     "data": {
      "text/plain": [
       "['ment of the King James Version of the Bible\\n\\n\\n\\n\\nThe First Book of Moses:  Called Genesis\\n\\n\\n1:1 ',\n",
       " 'd him, and he was put in a coffin in Egypt.\\n\\n\\n\\n\\nThe Second Book of Moses:  Called Exodus\\n\\n\\n1:1 ',\n",
       " 'of Israel,\\nthroughout all their journeys.\\n\\n\\n\\n\\nThe Third Book of Moses:  Called Leviticus\\n\\n\\n1:1 ',\n",
       " 'for\\nthe children of Israel in mount Sinai.\\n\\n\\n\\n\\nThe Fourth Book of Moses:  Called Numbers\\n\\n\\n1:1 ',\n",
       " '\\nplains of Moab by Jordan near Jericho.\\n\\n\\n\\n\\nThe Fifth Book of Moses:  Called Deuteronomy\\n\\n\\n1:1 ',\n",
       " 'l the great terror which Moses shewed\\nin the sight of all Israel.\\n\\n\\n\\n\\nThe Book of Joshua\\n\\n\\n1:1 ',\n",
       " 'tained to Phinehas his son, which was given him in mount\\nEphraim.\\n\\n\\n\\n\\nThe Book of Judges\\n\\n\\n1:1 ',\n",
       " 'king in Israel: every man did that\\nwhich was right in his own eyes.\\n\\n\\n\\n\\nThe Book of Ruth\\n\\n\\n1:1 ',\n",
       " 'egat David.\\n\\n\\n\\n\\nThe First Book of Samuel\\n\\nOtherwise Called:\\n\\nThe First Book of the Kings\\n\\n\\n1:1 ',\n",
       " 'ven days.\\n\\n\\n\\n\\nThe Second Book of Samuel\\n\\nOtherwise Called:\\n\\nThe Second Book of the Kings\\n\\n\\n1:1 ',\n",
       " 'm Israel.\\n\\n\\n\\n\\nThe First Book of the Kings\\n\\nCommonly Called:\\n\\nThe Third Book of the Kings\\n\\n\\n1:1 ',\n",
       " 'd done.\\n\\n\\n\\n\\nThe Second Book of the Kings\\n\\nCommonly Called:\\n\\nThe Fourth Book of the Kings\\n\\n\\n1:1 ',\n",
       " 'daily rate for every day, all the days of his life.\\n\\n\\n\\n\\nThe First Book of the Chronicles\\n\\n\\n1:1 ',\n",
       " 'srael, and over\\nall the kingdoms of the countries.\\n\\n\\n\\n\\nThe Second Book of the Chronicles\\n\\n\\n1:1 ',\n",
       " ' among\\nyou of all his people?  The LORD his God be with him, and let him go up.\\n\\n\\n\\n\\nEzra\\n\\n\\n1:1 ',\n",
       " 'ge wives: and some of them had wives by\\nwhom they had children.\\n\\n\\n\\n\\nThe Book of Nehemiah\\n\\n\\n1:1 ',\n",
       " 'ointed, and for the firstfruits.\\nRemember me, O my God, for good.\\n\\n\\n\\n\\nThe Book of Esther\\n\\n\\n1:1 ',\n",
       " 'eeking the wealth of his people, and speaking peace to\\nall his seed.\\n\\n\\n\\n\\nThe Book of Job\\n\\n\\n1:1 ',\n",
       " 'four generations.\\n\\n42:17 So Job died, being old and full of days.\\n\\n\\n\\n\\nThe Book of Psalms\\n\\n\\n1:1 ',\n",
       " '6 Let every thing that hath breath praise the LORD. Praise ye the LORD.\\n\\n\\n\\n\\nThe Proverbs\\n\\n\\n1:1 ',\n",
       " 'hands; and let her own works praise\\nher in the gates.\\n\\n\\n\\n\\nEcclesiastes\\n\\nor\\n\\nThe Preacher\\n\\n\\n1:1 ',\n",
       " 'h every secret\\nthing, whether it be good, or whether it be evil.\\n\\n\\n\\n\\nThe Song of Solomon\\n\\n\\n1:1 ',\n",
       " ' roe or to a young\\nhart upon the mountains of spices.\\n\\n\\n\\n\\nThe Book of the Prophet Isaiah\\n\\n\\n1:1 ',\n",
       " 'hed; and they shall be an abhorring\\nunto all flesh.\\n\\n\\n\\n\\nThe Book of the Prophet Jeremiah\\n\\n\\n1:1 ',\n",
       " 'n until the day of his death, all\\nthe days of his life.\\n\\n\\n\\n\\nThe Lamentations of Jeremiah\\n\\n\\n1:1 ',\n",
       " 'utterly rejected us; thou art very wroth against us.\\n\\n\\n\\n\\nThe Book of the Prophet Ezekiel\\n\\n\\n1:1 ',\n",
       " 'd the name of\\nthe city from that day shall be, The LORD is there.\\n\\n\\n\\n\\nThe Book of Daniel\\n\\n\\n1:1 ',\n",
       " ' the end be: for thou shalt rest,\\nand stand in thy lot at the end of the days.\\n\\n\\n\\n\\nHosea\\n\\n\\n1:1 ',\n",
       " 'ght, and the just\\nshall walk in them: but the transgressors shall fall therein.\\n\\n\\n\\n\\nJoel\\n\\n\\n1:1 ',\n",
       " 'll cleanse their blood that I have not cleansed: for the\\nLORD dwelleth in Zion.\\n\\n\\n\\n\\nAmos\\n\\n\\n1:1 ',\n",
       " 'pulled up out of their land which I have given them, saith the LORD\\nthy God.\\n\\n\\n\\n\\nObadiah\\n\\n\\n1:1 ',\n",
       " \"on mount Zion to judge the mount of\\nEsau; and the kingdom shall be the LORD's.\\n\\n\\n\\n\\nJonah\\n\\n\\n1:1 \",\n",
       " 'ot discern between their right hand and their left hand; and also\\nmuch cattle?\\n\\n\\n\\n\\nMicah\\n\\n\\n1:1 ',\n",
       " 'mercy to Abraham,\\nwhich thou hast sworn unto our fathers from the days of old.\\n\\n\\n\\n\\nNahum\\n\\n\\n1:1 ',\n",
       " ' hands over thee: for upon\\nwhom hath not thy wickedness passed continually?\\n\\n\\n\\n\\nHabakkuk\\n\\n\\n1:1 ',\n",
       " 'alk upon mine high places. To the chief\\nsinger on my stringed instruments.\\n\\n\\n\\n\\nZephaniah\\n\\n\\n1:1 ',\n",
       " ' the earth, when I turn back your captivity before your eyes,\\nsaith the LORD.\\n\\n\\n\\n\\nHaggai\\n\\n\\n1:1 ',\n",
       " 'll\\nmake thee as a signet: for I have chosen thee, saith the LORD of hosts.\\n\\n\\n\\n\\nZechariah\\n\\n\\n1:1 ',\n",
       " ' day there shall be no more the\\nCanaanite in the house of the LORD of hosts.\\n\\n\\n\\n\\nMalachi\\n\\n\\n1:1 ',\n",
       " '\\n\\n\\n\\n\\nThe New Testament of the King James Bible\\n\\n\\n\\n\\nThe Gospel According to Saint Matthew\\n\\n\\n1:1 ',\n",
       " ' you alway, even unto the end of the world. Amen.\\n\\n\\n\\n\\nThe Gospel According to Saint Mark\\n\\n\\n1:1 ',\n",
       " 'd confirming the word with signs following. Amen.\\n\\n\\n\\n\\nThe Gospel According to Saint Luke\\n\\n\\n1:1 ',\n",
       " 'y in the temple, praising and blessing\\nGod. Amen.\\n\\n\\n\\n\\nThe Gospel According to Saint John\\n\\n\\n1:1 ',\n",
       " 'f could not contain the books that should be written. Amen.\\n\\n\\n\\n\\nThe Acts of the Apostles\\n\\n\\n1:1 ',\n",
       " 'all confidence, no man forbidding him.\\n\\n\\n\\n\\nThe Epistle of Paul the Apostle to the Romans\\n\\n\\n1:1 ',\n",
       " 'esus Christ for ever. Amen.\\n\\n\\n\\n\\nThe First Epistle of Paul the Apostle to the Corinthians\\n\\n\\n1:1 ',\n",
       " 'all in Christ Jesus. Amen.\\n\\n\\n\\n\\nThe Second Epistle of Paul the Apostle to the Corinthians\\n\\n\\n1:1 ',\n",
       " ' Holy Ghost, be with you all. Amen.\\n\\n\\n\\n\\nThe Epistle of Paul the Apostle to the Galatians\\n\\n\\n1:1 ',\n",
       " ' Christ be with your spirit.\\n\\nAmen.\\n\\n\\n\\n\\nThe Epistle of Paul the Apostle to the Ephesians\\n\\n\\n1:1 ',\n",
       " 'Jesus Christ in\\nsincerity.\\n\\nAmen.\\n\\n\\n\\n\\nThe Epistle of Paul the Apostle to the Philippians\\n\\n\\n1:1 ',\n",
       " 'esus Christ be with you all. Amen.\\n\\n\\n\\n\\nThe Epistle of Paul the Apostle to the Colossians\\n\\n\\n1:1 ',\n",
       " ' Grace be\\nwith you. Amen.\\n\\n\\n\\n\\nThe First Epistle of Paul the Apostle to the Thessalonians\\n\\n\\n1:1 ',\n",
       " 'hrist be with you. Amen.\\n\\n\\n\\n\\nThe Second Epistle of Paul the Apostle to the Thessalonians\\n\\n\\n1:1 ',\n",
       " 'Jesus Christ be with you all. Amen.\\n\\n\\n\\n\\nThe First Epistle of Paul the Apostle to Timothy\\n\\n\\n1:1 ',\n",
       " 'e faith.\\nGrace be with thee. Amen.\\n\\n\\n\\n\\nThe Second Epistle of Paul the Apostle to Timothy\\n\\n\\n1:1 ',\n",
       " 'e with thy spirit. Grace be with you.\\nAmen.\\n\\n\\n\\n\\nThe Epistle of Paul the Apostle to Titus\\n\\n\\n1:1 ',\n",
       " ' the\\nfaith. Grace be with you all. Amen.\\n\\n\\n\\n\\nThe Epistle of Paul the Apostle to Philemon\\n\\n\\n1:1 ',\n",
       " 'sus Christ be with your spirit. Amen.\\n\\n\\n\\n\\nThe Epistle of Paul the Apostle to the Hebrews\\n\\n\\n1:1 ',\n",
       " 'f Italy salute you.\\n\\n13:25 Grace be with you all. Amen.\\n\\n\\n\\n\\nThe General Epistle of James\\n\\n\\n1:1 ',\n",
       " 'l from death, and shall hide a\\nmultitude of sins.\\n\\n\\n\\n\\nThe First Epistle General of Peter\\n\\n\\n1:1 ',\n",
       " ' be with you\\nall that are in Christ Jesus. Amen.\\n\\n\\n\\n\\nThe Second General Epistle of Peter\\n\\n\\n1:1 ',\n",
       " 'rist. To him be glory both now and for ever. Amen.\\n\\n\\n\\n\\nThe First Epistle General of John\\n\\n\\n1:1 ',\n",
       " 'ittle children, keep yourselves from idols. Amen.\\n\\n\\n\\n\\nThe Second Epistle General of John\\n\\n\\n1:1 ',\n",
       " 'The children of thy elect sister greet thee. Amen.\\n\\n\\n\\n\\nThe Third Epistle General of John\\n\\n\\n1:1 ',\n",
       " 'hee. Our friends salute thee. Greet\\nthe friends by name.\\n\\n\\n\\n\\nThe General Epistle of Jude\\n\\n\\n1:1 ',\n",
       " 'dominion and power, both now and ever. Amen.\\n\\n\\n\\n\\nThe Revelation of Saint John the Devine\\n\\n\\n1:1 ']"
      ]
     },
     "execution_count": 137,
     "metadata": {},
     "output_type": "execute_result"
    }
   ],
   "source": [
    "#Extracting verses\n",
    "import re\n",
    "\n",
    "surrounding_texts = []\n",
    "\n",
    "for match in re.finditer(\"\\n1:1 \", bible_text):\n",
    "    surrounding_text = bible_text[match.start()-90:match.end()]\n",
    "    surrounding_texts.append(surrounding_text)\n",
    "\n",
    "surrounding_texts\n",
    "\n"
   ]
  },
  {
   "cell_type": "markdown",
   "metadata": {},
   "source": [
    "The title of each book is preceeded by five newline characters ('\\n') and is followed by three newline characters. We can use positive look arounds to extract the text in the middle. "
   ]
  },
  {
   "cell_type": "code",
   "execution_count": 138,
   "metadata": {
    "scrolled": true
   },
   "outputs": [
    {
     "data": {
      "text/plain": [
       "['The Old Testament of the King James Version of the Bible',\n",
       " 'The First Book of Moses:  Called Genesis',\n",
       " 'The Second Book of Moses:  Called Exodus',\n",
       " 'The Third Book of Moses:  Called Leviticus',\n",
       " 'The Fourth Book of Moses:  Called Numbers',\n",
       " 'The Fifth Book of Moses:  Called Deuteronomy',\n",
       " 'The Book of Joshua',\n",
       " 'The Book of Judges',\n",
       " 'The Book of Ruth',\n",
       " 'The First Book of the Chronicles',\n",
       " 'The Second Book of the Chronicles',\n",
       " 'Ezra',\n",
       " 'The Book of Nehemiah',\n",
       " 'The Book of Esther',\n",
       " 'The Book of Job',\n",
       " 'The Book of Psalms',\n",
       " 'The Proverbs',\n",
       " 'The Song of Solomon',\n",
       " 'The Book of the Prophet Isaiah',\n",
       " 'The Book of the Prophet Jeremiah',\n",
       " 'The Lamentations of Jeremiah',\n",
       " 'The Book of the Prophet Ezekiel',\n",
       " 'The Book of Daniel',\n",
       " 'Hosea',\n",
       " 'Joel',\n",
       " 'Amos',\n",
       " 'Obadiah',\n",
       " 'Jonah',\n",
       " 'Micah',\n",
       " 'Nahum',\n",
       " 'Habakkuk',\n",
       " 'Zephaniah',\n",
       " 'Haggai',\n",
       " 'Zechariah',\n",
       " 'Malachi',\n",
       " 'The New Testament of the King James Bible',\n",
       " 'The Gospel According to Saint Matthew',\n",
       " 'The Gospel According to Saint Mark',\n",
       " 'The Gospel According to Saint Luke',\n",
       " 'The Gospel According to Saint John',\n",
       " 'The Acts of the Apostles',\n",
       " 'The Epistle of Paul the Apostle to the Romans',\n",
       " 'The First Epistle of Paul the Apostle to the Corinthians',\n",
       " 'The Second Epistle of Paul the Apostle to the Corinthians',\n",
       " 'The Epistle of Paul the Apostle to the Galatians',\n",
       " 'The Epistle of Paul the Apostle to the Ephesians',\n",
       " 'The Epistle of Paul the Apostle to the Philippians',\n",
       " 'The Epistle of Paul the Apostle to the Colossians',\n",
       " 'The First Epistle of Paul the Apostle to the Thessalonians',\n",
       " 'The Second Epistle of Paul the Apostle to the Thessalonians',\n",
       " 'The First Epistle of Paul the Apostle to Timothy',\n",
       " 'The Second Epistle of Paul the Apostle to Timothy',\n",
       " 'The Epistle of Paul the Apostle to Titus',\n",
       " 'The Epistle of Paul the Apostle to Philemon',\n",
       " 'The Epistle of Paul the Apostle to the Hebrews',\n",
       " 'The General Epistle of James',\n",
       " 'The First Epistle General of Peter',\n",
       " 'The Second General Epistle of Peter',\n",
       " 'The First Epistle General of John',\n",
       " 'The Second Epistle General of John',\n",
       " 'The Third Epistle General of John',\n",
       " 'The General Epistle of Jude',\n",
       " 'The Revelation of Saint John the Devine']"
      ]
     },
     "execution_count": 138,
     "metadata": {},
     "output_type": "execute_result"
    }
   ],
   "source": [
    "pattern = '(?<=\\n\\n\\n\\n\\n)(.+)(?=\\n\\n\\n)'\n",
    "book_names = re.findall(pattern,bible_text)\n",
    "book_names"
   ]
  },
  {
   "cell_type": "markdown",
   "metadata": {},
   "source": [
    "Ok, looks mostly good so far. Let's check the length."
   ]
  },
  {
   "cell_type": "code",
   "execution_count": 139,
   "metadata": {},
   "outputs": [
    {
     "data": {
      "text/plain": [
       "63"
      ]
     },
     "execution_count": 139,
     "metadata": {},
     "output_type": "execute_result"
    }
   ],
   "source": [
    "len(book_names)"
   ]
  },
  {
   "cell_type": "markdown",
   "metadata": {},
   "source": [
    "Uh oh! Looks like we're missing some. Upon closer inspection we're missing the books of 1,2 Samuel, 1,2 Kings and Ecclesiastes. These are formatted slightly differently with new line characters in the title as well. We can use a more complicated regex to extract these books as well"
   ]
  },
  {
   "cell_type": "code",
   "execution_count": 140,
   "metadata": {},
   "outputs": [
    {
     "data": {
      "text/plain": [
       "68"
      ]
     },
     "execution_count": 140,
     "metadata": {},
     "output_type": "execute_result"
    }
   ],
   "source": [
    "#pattern = '(?<=\\n\\n\\n\\n\\n)(.+?\\n?\\n?\\n?.*?\\n?\\n?.*)(?=\\n\\n\\n)'\n",
    "pattern = '(?<=\\n\\n\\n\\n\\n)(.+?\\n?\\n?.*?\\n?\\n?.*)(?=\\n\\n\\n)'\n",
    "book_names = re.findall(pattern,bible_text)\n",
    "len(book_names)"
   ]
  },
  {
   "cell_type": "markdown",
   "metadata": {},
   "source": [
    "There are 66 books in the bible with two additional entries for the start of the Old and New Testament. We'll delete them from the list and our list of bible books should be complete."
   ]
  },
  {
   "cell_type": "code",
   "execution_count": 141,
   "metadata": {
    "scrolled": true
   },
   "outputs": [
    {
     "data": {
      "text/plain": [
       "['The First Book of Moses:  Called Genesis',\n",
       " 'The Second Book of Moses:  Called Exodus',\n",
       " 'The Third Book of Moses:  Called Leviticus',\n",
       " 'The Fourth Book of Moses:  Called Numbers',\n",
       " 'The Fifth Book of Moses:  Called Deuteronomy',\n",
       " 'The Book of Joshua',\n",
       " 'The Book of Judges',\n",
       " 'The Book of Ruth',\n",
       " 'The First Book of Samuel\\n\\nOtherwise Called:\\n\\nThe First Book of the Kings',\n",
       " 'The Second Book of Samuel\\n\\nOtherwise Called:\\n\\nThe Second Book of the Kings',\n",
       " 'The First Book of the Kings\\n\\nCommonly Called:\\n\\nThe Third Book of the Kings',\n",
       " 'The Second Book of the Kings\\n\\nCommonly Called:\\n\\nThe Fourth Book of the Kings',\n",
       " 'The First Book of the Chronicles',\n",
       " 'The Second Book of the Chronicles',\n",
       " 'Ezra',\n",
       " 'The Book of Nehemiah',\n",
       " 'The Book of Esther',\n",
       " 'The Book of Job',\n",
       " 'The Book of Psalms',\n",
       " 'The Proverbs',\n",
       " 'Ecclesiastes\\n\\nor\\n\\nThe Preacher',\n",
       " 'The Song of Solomon',\n",
       " 'The Book of the Prophet Isaiah',\n",
       " 'The Book of the Prophet Jeremiah',\n",
       " 'The Lamentations of Jeremiah',\n",
       " 'The Book of the Prophet Ezekiel',\n",
       " 'The Book of Daniel',\n",
       " 'Hosea',\n",
       " 'Joel',\n",
       " 'Amos',\n",
       " 'Obadiah',\n",
       " 'Jonah',\n",
       " 'Micah',\n",
       " 'Nahum',\n",
       " 'Habakkuk',\n",
       " 'Zephaniah',\n",
       " 'Haggai',\n",
       " 'Zechariah',\n",
       " 'The New Testament of the King James Bible',\n",
       " 'The Gospel According to Saint Matthew',\n",
       " 'The Gospel According to Saint Mark',\n",
       " 'The Gospel According to Saint Luke',\n",
       " 'The Gospel According to Saint John',\n",
       " 'The Acts of the Apostles',\n",
       " 'The Epistle of Paul the Apostle to the Romans',\n",
       " 'The First Epistle of Paul the Apostle to the Corinthians',\n",
       " 'The Second Epistle of Paul the Apostle to the Corinthians',\n",
       " 'The Epistle of Paul the Apostle to the Galatians',\n",
       " 'The Epistle of Paul the Apostle to the Ephesians',\n",
       " 'The Epistle of Paul the Apostle to the Philippians',\n",
       " 'The Epistle of Paul the Apostle to the Colossians',\n",
       " 'The First Epistle of Paul the Apostle to the Thessalonians',\n",
       " 'The Second Epistle of Paul the Apostle to the Thessalonians',\n",
       " 'The First Epistle of Paul the Apostle to Timothy',\n",
       " 'The Second Epistle of Paul the Apostle to Timothy',\n",
       " 'The Epistle of Paul the Apostle to Titus',\n",
       " 'The Epistle of Paul the Apostle to Philemon',\n",
       " 'The Epistle of Paul the Apostle to the Hebrews',\n",
       " 'The General Epistle of James',\n",
       " 'The First Epistle General of Peter',\n",
       " 'The Second General Epistle of Peter',\n",
       " 'The First Epistle General of John',\n",
       " 'The Second Epistle General of John',\n",
       " 'The Third Epistle General of John',\n",
       " 'The General Epistle of Jude',\n",
       " 'The Revelation of Saint John the Devine']"
      ]
     },
     "execution_count": 141,
     "metadata": {},
     "output_type": "execute_result"
    }
   ],
   "source": [
    "del book_names [0], book_names[38]\n",
    "book_names"
   ]
  },
  {
   "cell_type": "code",
   "execution_count": 142,
   "metadata": {},
   "outputs": [
    {
     "data": {
      "text/plain": [
       "66"
      ]
     },
     "execution_count": 142,
     "metadata": {},
     "output_type": "execute_result"
    }
   ],
   "source": [
    "len(book_names)"
   ]
  },
  {
   "cell_type": "markdown",
   "metadata": {},
   "source": [
    "Let's find the position of these book names so we can segment the rest of the bible text into the relevant books"
   ]
  },
  {
   "cell_type": "code",
   "execution_count": 143,
   "metadata": {},
   "outputs": [],
   "source": [
    "texts = []\n",
    "for book in book_names:\n",
    "    text = re.split(book, bible_text)\n",
    "    texts.append(text[1])"
   ]
  },
  {
   "cell_type": "markdown",
   "metadata": {},
   "source": [
    "The next stage we need to move onto is to "
   ]
  }
 ],
 "metadata": {
  "kernelspec": {
   "display_name": "Python 3",
   "language": "python",
   "name": "python3"
  },
  "language_info": {
   "codemirror_mode": {
    "name": "ipython",
    "version": 3
   },
   "file_extension": ".py",
   "mimetype": "text/x-python",
   "name": "python",
   "nbconvert_exporter": "python",
   "pygments_lexer": "ipython3",
   "version": "3.7.3"
  }
 },
 "nbformat": 4,
 "nbformat_minor": 2
}
